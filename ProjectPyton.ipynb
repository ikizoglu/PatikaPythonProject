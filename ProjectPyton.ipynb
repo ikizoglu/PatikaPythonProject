{
  "nbformat": 4,
  "nbformat_minor": 0,
  "metadata": {
    "colab": {
      "provenance": []
    },
    "kernelspec": {
      "name": "python3",
      "display_name": "Python 3"
    },
    "language_info": {
      "name": "python"
    }
  },
  "cells": [
    {
      "cell_type": "code",
      "execution_count": 2,
      "metadata": {
        "colab": {
          "base_uri": "https://localhost:8080/"
        },
        "id": "sgKgXr46-ZUX",
        "outputId": "24116a3f-b9e3-40d6-eaac-002499328a72"
      },
      "outputs": [
        {
          "output_type": "stream",
          "name": "stdout",
          "text": [
            "[1, 'a', 'cat', 2, 3, 'dog', 4, 5]\n"
          ]
        }
      ],
      "source": [
        "#Question 1:\n",
        "\n",
        "l = [[1, 'a', ['cat'], 2], [[[3]], 'dog'], 4, 5]\n",
        "l1 = []\n",
        "\n",
        "def flatten(l):\n",
        "    for i in l:\n",
        "        if isinstance(i, list):\n",
        "            flatten(i)\n",
        "        else:\n",
        "            l1.append(i)\n",
        "\n",
        "flatten(l)\n",
        "print(l1)"
      ]
    },
    {
      "cell_type": "code",
      "source": [
        "#Question 2:\n",
        "\n",
        "l = [[1, 2], [3, 4], [5, 6, 7]]\n",
        "\n",
        "def new_list(l):\n",
        "    for i in l:\n",
        "        i.reverse()\n",
        "    l.reverse()\n",
        "    return(l)"
      ],
      "metadata": {
        "id": "CiyTKOaN-tBu"
      },
      "execution_count": 4,
      "outputs": []
    },
    {
      "cell_type": "code",
      "source": [
        "l"
      ],
      "metadata": {
        "colab": {
          "base_uri": "https://localhost:8080/"
        },
        "id": "j4VMUOFA-_8_",
        "outputId": "f387f1d8-636e-4194-9869-0659fade3efd"
      },
      "execution_count": 6,
      "outputs": [
        {
          "output_type": "execute_result",
          "data": {
            "text/plain": [
              "[[1, 2], [3, 4], [5, 6, 7]]"
            ]
          },
          "metadata": {},
          "execution_count": 6
        }
      ]
    },
    {
      "cell_type": "code",
      "source": [
        "new_list(l)"
      ],
      "metadata": {
        "colab": {
          "base_uri": "https://localhost:8080/"
        },
        "id": "9Lg4O3oM_KiF",
        "outputId": "a6af75a1-3588-4029-f1e1-007b3f9fce3a"
      },
      "execution_count": 8,
      "outputs": [
        {
          "output_type": "execute_result",
          "data": {
            "text/plain": [
              "[[7, 6, 5], [4, 3], [2, 1]]"
            ]
          },
          "metadata": {},
          "execution_count": 8
        }
      ]
    }
  ]
}